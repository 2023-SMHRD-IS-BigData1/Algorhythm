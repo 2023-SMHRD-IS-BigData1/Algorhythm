{
 "cells": [
  {
   "cell_type": "code",
   "execution_count": 1,
   "id": "ce23b61b",
   "metadata": {},
   "outputs": [],
   "source": [
    "import pandas as pd\n",
    "import numpy as np"
   ]
  },
  {
   "cell_type": "code",
   "execution_count": 2,
   "id": "8667e2e7",
   "metadata": {},
   "outputs": [
    {
     "data": {
      "text/html": [
       "<div>\n",
       "<style scoped>\n",
       "    .dataframe tbody tr th:only-of-type {\n",
       "        vertical-align: middle;\n",
       "    }\n",
       "\n",
       "    .dataframe tbody tr th {\n",
       "        vertical-align: top;\n",
       "    }\n",
       "\n",
       "    .dataframe thead th {\n",
       "        text-align: right;\n",
       "    }\n",
       "</style>\n",
       "<table border=\"1\" class=\"dataframe\">\n",
       "  <thead>\n",
       "    <tr style=\"text-align: right;\">\n",
       "      <th></th>\n",
       "      <th>use_start</th>\n",
       "      <th>use_start_lng</th>\n",
       "      <th>use_start_lat</th>\n",
       "      <th>use_start_time</th>\n",
       "      <th>대여자수</th>\n",
       "    </tr>\n",
       "  </thead>\n",
       "  <tbody>\n",
       "    <tr>\n",
       "      <th>0</th>\n",
       "      <td>SJ_00001</td>\n",
       "      <td>127.289038</td>\n",
       "      <td>36.478950</td>\n",
       "      <td>2021-04-01</td>\n",
       "      <td>35</td>\n",
       "    </tr>\n",
       "    <tr>\n",
       "      <th>1</th>\n",
       "      <td>SJ_00001</td>\n",
       "      <td>127.289038</td>\n",
       "      <td>36.478950</td>\n",
       "      <td>2021-04-02</td>\n",
       "      <td>30</td>\n",
       "    </tr>\n",
       "    <tr>\n",
       "      <th>2</th>\n",
       "      <td>SJ_00001</td>\n",
       "      <td>127.289038</td>\n",
       "      <td>36.478950</td>\n",
       "      <td>2021-04-03</td>\n",
       "      <td>4</td>\n",
       "    </tr>\n",
       "    <tr>\n",
       "      <th>3</th>\n",
       "      <td>SJ_00001</td>\n",
       "      <td>127.289038</td>\n",
       "      <td>36.478950</td>\n",
       "      <td>2021-04-04</td>\n",
       "      <td>26</td>\n",
       "    </tr>\n",
       "    <tr>\n",
       "      <th>4</th>\n",
       "      <td>SJ_00001</td>\n",
       "      <td>127.289038</td>\n",
       "      <td>36.478950</td>\n",
       "      <td>2021-04-05</td>\n",
       "      <td>36</td>\n",
       "    </tr>\n",
       "    <tr>\n",
       "      <th>...</th>\n",
       "      <td>...</td>\n",
       "      <td>...</td>\n",
       "      <td>...</td>\n",
       "      <td>...</td>\n",
       "      <td>...</td>\n",
       "    </tr>\n",
       "    <tr>\n",
       "      <th>56096</th>\n",
       "      <td>SJ_413</td>\n",
       "      <td>127.259272</td>\n",
       "      <td>36.498197</td>\n",
       "      <td>2021-07-22</td>\n",
       "      <td>4</td>\n",
       "    </tr>\n",
       "    <tr>\n",
       "      <th>56097</th>\n",
       "      <td>SJ_413</td>\n",
       "      <td>127.259272</td>\n",
       "      <td>36.498197</td>\n",
       "      <td>2021-07-23</td>\n",
       "      <td>5</td>\n",
       "    </tr>\n",
       "    <tr>\n",
       "      <th>56098</th>\n",
       "      <td>SJ_413</td>\n",
       "      <td>127.259272</td>\n",
       "      <td>36.498197</td>\n",
       "      <td>2021-07-26</td>\n",
       "      <td>4</td>\n",
       "    </tr>\n",
       "    <tr>\n",
       "      <th>56099</th>\n",
       "      <td>SJ_413</td>\n",
       "      <td>127.259272</td>\n",
       "      <td>36.498197</td>\n",
       "      <td>2021-07-27</td>\n",
       "      <td>3</td>\n",
       "    </tr>\n",
       "    <tr>\n",
       "      <th>56100</th>\n",
       "      <td>SJ_413</td>\n",
       "      <td>127.259272</td>\n",
       "      <td>36.498197</td>\n",
       "      <td>2021-07-28</td>\n",
       "      <td>7</td>\n",
       "    </tr>\n",
       "  </tbody>\n",
       "</table>\n",
       "<p>56101 rows × 5 columns</p>\n",
       "</div>"
      ],
      "text/plain": [
       "      use_start  use_start_lng  use_start_lat use_start_time  대여자수\n",
       "0      SJ_00001     127.289038      36.478950     2021-04-01    35\n",
       "1      SJ_00001     127.289038      36.478950     2021-04-02    30\n",
       "2      SJ_00001     127.289038      36.478950     2021-04-03     4\n",
       "3      SJ_00001     127.289038      36.478950     2021-04-04    26\n",
       "4      SJ_00001     127.289038      36.478950     2021-04-05    36\n",
       "...         ...            ...            ...            ...   ...\n",
       "56096    SJ_413     127.259272      36.498197     2021-07-22     4\n",
       "56097    SJ_413     127.259272      36.498197     2021-07-23     5\n",
       "56098    SJ_413     127.259272      36.498197     2021-07-26     4\n",
       "56099    SJ_413     127.259272      36.498197     2021-07-27     3\n",
       "56100    SJ_413     127.259272      36.498197     2021-07-28     7\n",
       "\n",
       "[56101 rows x 5 columns]"
      ]
     },
     "execution_count": 2,
     "metadata": {},
     "output_type": "execute_result"
    }
   ],
   "source": [
    "use= pd.read_csv('./최종_use_start.tsv', sep=\"\\t\", encoding='UTF-8')\n",
    "use"
   ]
  },
  {
   "cell_type": "code",
   "execution_count": 3,
   "id": "5ff06cb8",
   "metadata": {},
   "outputs": [],
   "source": [
    "# 일일 정류장별 대여 현황\n",
    "\n",
    "use1= pd.read_csv('./sejong_bike(2022)_1.csv', encoding='EUC-KR')\n",
    "use2= pd.read_csv('./sejong_bike(2022)_2.csv', encoding='EUC-KR')\n",
    "use3= pd.read_csv('./sejong_bike(2022)_3.csv', encoding='EUC-KR')"
   ]
  },
  {
   "cell_type": "code",
   "execution_count": 4,
   "id": "d13f4c64",
   "metadata": {},
   "outputs": [
    {
     "data": {
      "text/plain": [
       "<bound method Series.sort_values of 0          20220107184807\n",
       "1          20220107185104\n",
       "2          20220107185104\n",
       "3          20220107185129\n",
       "4          20220107185209\n",
       "                ...      \n",
       "1048570    20220622093142\n",
       "1048571    20220622093219\n",
       "1048572    20220622093257\n",
       "1048573    20220622093308\n",
       "1048574    20220622093334\n",
       "Name: 대여시간, Length: 1048575, dtype: int64>"
      ]
     },
     "execution_count": 4,
     "metadata": {},
     "output_type": "execute_result"
    }
   ],
   "source": [
    "use1['대여시간'].sort_values"
   ]
  },
  {
   "cell_type": "code",
   "execution_count": 5,
   "id": "b733e3cf",
   "metadata": {
    "scrolled": true
   },
   "outputs": [
    {
     "data": {
      "text/html": [
       "<div>\n",
       "<style scoped>\n",
       "    .dataframe tbody tr th:only-of-type {\n",
       "        vertical-align: middle;\n",
       "    }\n",
       "\n",
       "    .dataframe tbody tr th {\n",
       "        vertical-align: top;\n",
       "    }\n",
       "\n",
       "    .dataframe thead th {\n",
       "        text-align: right;\n",
       "    }\n",
       "</style>\n",
       "<table border=\"1\" class=\"dataframe\">\n",
       "  <thead>\n",
       "    <tr style=\"text-align: right;\">\n",
       "      <th></th>\n",
       "      <th>시작대여소_식별번호</th>\n",
       "      <th>시작대여소_경도</th>\n",
       "      <th>시작대여소_위도</th>\n",
       "      <th>대여시간</th>\n",
       "      <th>반납대여소_식별번호</th>\n",
       "      <th>반납대여소_경도</th>\n",
       "      <th>반납대여소_위도</th>\n",
       "      <th>반납시간</th>\n",
       "    </tr>\n",
       "  </thead>\n",
       "  <tbody>\n",
       "    <tr>\n",
       "      <th>0</th>\n",
       "      <td>SJ_00312</td>\n",
       "      <td>127.255510</td>\n",
       "      <td>36.488959</td>\n",
       "      <td>20220107184807</td>\n",
       "      <td>SJ_00315</td>\n",
       "      <td>127.253168</td>\n",
       "      <td>36.488107</td>\n",
       "      <td>20220107185018</td>\n",
       "    </tr>\n",
       "    <tr>\n",
       "      <th>1</th>\n",
       "      <td>SJ_00452</td>\n",
       "      <td>127.267595</td>\n",
       "      <td>36.506868</td>\n",
       "      <td>20220107185104</td>\n",
       "      <td>SJ_00198</td>\n",
       "      <td>127.264788</td>\n",
       "      <td>36.511118</td>\n",
       "      <td>20220107185749</td>\n",
       "    </tr>\n",
       "    <tr>\n",
       "      <th>2</th>\n",
       "      <td>SJ_00414</td>\n",
       "      <td>127.249233</td>\n",
       "      <td>36.505187</td>\n",
       "      <td>20220107185104</td>\n",
       "      <td>SJ_00414</td>\n",
       "      <td>127.249233</td>\n",
       "      <td>36.505187</td>\n",
       "      <td>20220107185316</td>\n",
       "    </tr>\n",
       "    <tr>\n",
       "      <th>3</th>\n",
       "      <td>SJ_00323</td>\n",
       "      <td>127.260933</td>\n",
       "      <td>36.504349</td>\n",
       "      <td>20220107185129</td>\n",
       "      <td>SJ_00535</td>\n",
       "      <td>127.258506</td>\n",
       "      <td>36.506927</td>\n",
       "      <td>20220107185427</td>\n",
       "    </tr>\n",
       "    <tr>\n",
       "      <th>4</th>\n",
       "      <td>SJ_00057</td>\n",
       "      <td>127.259645</td>\n",
       "      <td>36.482133</td>\n",
       "      <td>20220107185209</td>\n",
       "      <td>SJ_00273</td>\n",
       "      <td>127.256961</td>\n",
       "      <td>36.490977</td>\n",
       "      <td>20220107185957</td>\n",
       "    </tr>\n",
       "    <tr>\n",
       "      <th>...</th>\n",
       "      <td>...</td>\n",
       "      <td>...</td>\n",
       "      <td>...</td>\n",
       "      <td>...</td>\n",
       "      <td>...</td>\n",
       "      <td>...</td>\n",
       "      <td>...</td>\n",
       "      <td>...</td>\n",
       "    </tr>\n",
       "    <tr>\n",
       "      <th>2250384</th>\n",
       "      <td>SJ_00034</td>\n",
       "      <td>127.280865</td>\n",
       "      <td>36.474907</td>\n",
       "      <td>20221231155811</td>\n",
       "      <td>SJ_00042</td>\n",
       "      <td>127.272908</td>\n",
       "      <td>36.474216</td>\n",
       "      <td>20221231165359</td>\n",
       "    </tr>\n",
       "    <tr>\n",
       "      <th>2250385</th>\n",
       "      <td>SJ_00338</td>\n",
       "      <td>127.261713</td>\n",
       "      <td>36.504864</td>\n",
       "      <td>20221231155944</td>\n",
       "      <td>SJ_00211</td>\n",
       "      <td>127.260127</td>\n",
       "      <td>36.501459</td>\n",
       "      <td>20221231160350</td>\n",
       "    </tr>\n",
       "    <tr>\n",
       "      <th>2250386</th>\n",
       "      <td>SJ_00163</td>\n",
       "      <td>127.248956</td>\n",
       "      <td>36.511523</td>\n",
       "      <td>20221231160615</td>\n",
       "      <td>SJ_00189</td>\n",
       "      <td>127.258868</td>\n",
       "      <td>36.513965</td>\n",
       "      <td>20221231161147</td>\n",
       "    </tr>\n",
       "    <tr>\n",
       "      <th>2250387</th>\n",
       "      <td>SJ_00064</td>\n",
       "      <td>127.251999</td>\n",
       "      <td>36.484200</td>\n",
       "      <td>20221231160706</td>\n",
       "      <td>SJ_00212</td>\n",
       "      <td>127.269599</td>\n",
       "      <td>36.499517</td>\n",
       "      <td>20221231172109</td>\n",
       "    </tr>\n",
       "    <tr>\n",
       "      <th>2250388</th>\n",
       "      <td>SJ_00426</td>\n",
       "      <td>127.297280</td>\n",
       "      <td>36.594918</td>\n",
       "      <td>20221231162838</td>\n",
       "      <td>SJ_00426</td>\n",
       "      <td>127.297280</td>\n",
       "      <td>36.594918</td>\n",
       "      <td>20221231173118</td>\n",
       "    </tr>\n",
       "  </tbody>\n",
       "</table>\n",
       "<p>2250389 rows × 8 columns</p>\n",
       "</div>"
      ],
      "text/plain": [
       "        시작대여소_식별번호    시작대여소_경도   시작대여소_위도            대여시간 반납대여소_식별번호  \\\n",
       "0         SJ_00312  127.255510  36.488959  20220107184807   SJ_00315   \n",
       "1         SJ_00452  127.267595  36.506868  20220107185104   SJ_00198   \n",
       "2         SJ_00414  127.249233  36.505187  20220107185104   SJ_00414   \n",
       "3         SJ_00323  127.260933  36.504349  20220107185129   SJ_00535   \n",
       "4         SJ_00057  127.259645  36.482133  20220107185209   SJ_00273   \n",
       "...            ...         ...        ...             ...        ...   \n",
       "2250384   SJ_00034  127.280865  36.474907  20221231155811   SJ_00042   \n",
       "2250385   SJ_00338  127.261713  36.504864  20221231155944   SJ_00211   \n",
       "2250386   SJ_00163  127.248956  36.511523  20221231160615   SJ_00189   \n",
       "2250387   SJ_00064  127.251999  36.484200  20221231160706   SJ_00212   \n",
       "2250388   SJ_00426  127.297280  36.594918  20221231162838   SJ_00426   \n",
       "\n",
       "           반납대여소_경도   반납대여소_위도            반납시간  \n",
       "0        127.253168  36.488107  20220107185018  \n",
       "1        127.264788  36.511118  20220107185749  \n",
       "2        127.249233  36.505187  20220107185316  \n",
       "3        127.258506  36.506927  20220107185427  \n",
       "4        127.256961  36.490977  20220107185957  \n",
       "...             ...        ...             ...  \n",
       "2250384  127.272908  36.474216  20221231165359  \n",
       "2250385  127.260127  36.501459  20221231160350  \n",
       "2250386  127.258868  36.513965  20221231161147  \n",
       "2250387  127.269599  36.499517  20221231172109  \n",
       "2250388  127.297280  36.594918  20221231173118  \n",
       "\n",
       "[2250389 rows x 8 columns]"
      ]
     },
     "execution_count": 5,
     "metadata": {},
     "output_type": "execute_result"
    }
   ],
   "source": [
    "result = pd.concat([use1, use2,use3], ignore_index=True)\n",
    "result\n"
   ]
  },
  {
   "cell_type": "code",
   "execution_count": 6,
   "id": "078991db",
   "metadata": {},
   "outputs": [
    {
     "ename": "NameError",
     "evalue": "name '시작대여소경도' is not defined",
     "output_type": "error",
     "traceback": [
      "\u001b[1;31m---------------------------------------------------------------------------\u001b[0m",
      "\u001b[1;31mNameError\u001b[0m                                 Traceback (most recent call last)",
      "Cell \u001b[1;32mIn[6], line 1\u001b[0m\n\u001b[1;32m----> 1\u001b[0m result[시작대여소경도]\n",
      "\u001b[1;31mNameError\u001b[0m: name '시작대여소경도' is not defined"
     ]
    }
   ],
   "source": []
  },
  {
   "cell_type": "code",
   "execution_count": 7,
   "id": "82646da2",
   "metadata": {
    "scrolled": true
   },
   "outputs": [
    {
     "data": {
      "text/html": [
       "<div>\n",
       "<style scoped>\n",
       "    .dataframe tbody tr th:only-of-type {\n",
       "        vertical-align: middle;\n",
       "    }\n",
       "\n",
       "    .dataframe tbody tr th {\n",
       "        vertical-align: top;\n",
       "    }\n",
       "\n",
       "    .dataframe thead th {\n",
       "        text-align: right;\n",
       "    }\n",
       "</style>\n",
       "<table border=\"1\" class=\"dataframe\">\n",
       "  <thead>\n",
       "    <tr style=\"text-align: right;\">\n",
       "      <th></th>\n",
       "      <th>시작대여소_식별번호</th>\n",
       "      <th>시작대여소_경도</th>\n",
       "      <th>시작대여소_위도</th>\n",
       "      <th>대여시간</th>\n",
       "    </tr>\n",
       "  </thead>\n",
       "  <tbody>\n",
       "    <tr>\n",
       "      <th>0</th>\n",
       "      <td>SJ_00312</td>\n",
       "      <td>127.255510</td>\n",
       "      <td>36.488959</td>\n",
       "      <td>20220107184807</td>\n",
       "    </tr>\n",
       "    <tr>\n",
       "      <th>1</th>\n",
       "      <td>SJ_00452</td>\n",
       "      <td>127.267595</td>\n",
       "      <td>36.506868</td>\n",
       "      <td>20220107185104</td>\n",
       "    </tr>\n",
       "    <tr>\n",
       "      <th>2</th>\n",
       "      <td>SJ_00414</td>\n",
       "      <td>127.249233</td>\n",
       "      <td>36.505187</td>\n",
       "      <td>20220107185104</td>\n",
       "    </tr>\n",
       "    <tr>\n",
       "      <th>3</th>\n",
       "      <td>SJ_00323</td>\n",
       "      <td>127.260933</td>\n",
       "      <td>36.504349</td>\n",
       "      <td>20220107185129</td>\n",
       "    </tr>\n",
       "    <tr>\n",
       "      <th>4</th>\n",
       "      <td>SJ_00057</td>\n",
       "      <td>127.259645</td>\n",
       "      <td>36.482133</td>\n",
       "      <td>20220107185209</td>\n",
       "    </tr>\n",
       "    <tr>\n",
       "      <th>...</th>\n",
       "      <td>...</td>\n",
       "      <td>...</td>\n",
       "      <td>...</td>\n",
       "      <td>...</td>\n",
       "    </tr>\n",
       "    <tr>\n",
       "      <th>2250384</th>\n",
       "      <td>SJ_00034</td>\n",
       "      <td>127.280865</td>\n",
       "      <td>36.474907</td>\n",
       "      <td>20221231155811</td>\n",
       "    </tr>\n",
       "    <tr>\n",
       "      <th>2250385</th>\n",
       "      <td>SJ_00338</td>\n",
       "      <td>127.261713</td>\n",
       "      <td>36.504864</td>\n",
       "      <td>20221231155944</td>\n",
       "    </tr>\n",
       "    <tr>\n",
       "      <th>2250386</th>\n",
       "      <td>SJ_00163</td>\n",
       "      <td>127.248956</td>\n",
       "      <td>36.511523</td>\n",
       "      <td>20221231160615</td>\n",
       "    </tr>\n",
       "    <tr>\n",
       "      <th>2250387</th>\n",
       "      <td>SJ_00064</td>\n",
       "      <td>127.251999</td>\n",
       "      <td>36.484200</td>\n",
       "      <td>20221231160706</td>\n",
       "    </tr>\n",
       "    <tr>\n",
       "      <th>2250388</th>\n",
       "      <td>SJ_00426</td>\n",
       "      <td>127.297280</td>\n",
       "      <td>36.594918</td>\n",
       "      <td>20221231162838</td>\n",
       "    </tr>\n",
       "  </tbody>\n",
       "</table>\n",
       "<p>2250389 rows × 4 columns</p>\n",
       "</div>"
      ],
      "text/plain": [
       "        시작대여소_식별번호    시작대여소_경도   시작대여소_위도            대여시간\n",
       "0         SJ_00312  127.255510  36.488959  20220107184807\n",
       "1         SJ_00452  127.267595  36.506868  20220107185104\n",
       "2         SJ_00414  127.249233  36.505187  20220107185104\n",
       "3         SJ_00323  127.260933  36.504349  20220107185129\n",
       "4         SJ_00057  127.259645  36.482133  20220107185209\n",
       "...            ...         ...        ...             ...\n",
       "2250384   SJ_00034  127.280865  36.474907  20221231155811\n",
       "2250385   SJ_00338  127.261713  36.504864  20221231155944\n",
       "2250386   SJ_00163  127.248956  36.511523  20221231160615\n",
       "2250387   SJ_00064  127.251999  36.484200  20221231160706\n",
       "2250388   SJ_00426  127.297280  36.594918  20221231162838\n",
       "\n",
       "[2250389 rows x 4 columns]"
      ]
     },
     "execution_count": 7,
     "metadata": {},
     "output_type": "execute_result"
    }
   ],
   "source": [
    "use_year=result.iloc[:,:4]\n",
    "return_year=result.iloc[:,4:]\n",
    "use_year"
   ]
  },
  {
   "cell_type": "code",
   "execution_count": 8,
   "id": "7e08aa20",
   "metadata": {},
   "outputs": [],
   "source": [
    "use_Year = use_year.rename(columns={'시작대여소_식별번호': '시작대여소','시작대여소_경도':'use_start_lng','시작대여소_위도':'use_start_lat','대여시간':'날짜'})"
   ]
  },
  {
   "cell_type": "code",
   "execution_count": 9,
   "id": "52489530",
   "metadata": {
    "scrolled": false
   },
   "outputs": [
    {
     "data": {
      "text/html": [
       "<div>\n",
       "<style scoped>\n",
       "    .dataframe tbody tr th:only-of-type {\n",
       "        vertical-align: middle;\n",
       "    }\n",
       "\n",
       "    .dataframe tbody tr th {\n",
       "        vertical-align: top;\n",
       "    }\n",
       "\n",
       "    .dataframe thead th {\n",
       "        text-align: right;\n",
       "    }\n",
       "</style>\n",
       "<table border=\"1\" class=\"dataframe\">\n",
       "  <thead>\n",
       "    <tr style=\"text-align: right;\">\n",
       "      <th></th>\n",
       "      <th>시작대여소</th>\n",
       "      <th>use_start_lng</th>\n",
       "      <th>use_start_lat</th>\n",
       "      <th>날짜</th>\n",
       "    </tr>\n",
       "  </thead>\n",
       "  <tbody>\n",
       "    <tr>\n",
       "      <th>0</th>\n",
       "      <td>SJ_00312</td>\n",
       "      <td>127.255510</td>\n",
       "      <td>36.488959</td>\n",
       "      <td>20220107184807</td>\n",
       "    </tr>\n",
       "    <tr>\n",
       "      <th>1</th>\n",
       "      <td>SJ_00452</td>\n",
       "      <td>127.267595</td>\n",
       "      <td>36.506868</td>\n",
       "      <td>20220107185104</td>\n",
       "    </tr>\n",
       "    <tr>\n",
       "      <th>2</th>\n",
       "      <td>SJ_00414</td>\n",
       "      <td>127.249233</td>\n",
       "      <td>36.505187</td>\n",
       "      <td>20220107185104</td>\n",
       "    </tr>\n",
       "    <tr>\n",
       "      <th>3</th>\n",
       "      <td>SJ_00323</td>\n",
       "      <td>127.260933</td>\n",
       "      <td>36.504349</td>\n",
       "      <td>20220107185129</td>\n",
       "    </tr>\n",
       "    <tr>\n",
       "      <th>4</th>\n",
       "      <td>SJ_00057</td>\n",
       "      <td>127.259645</td>\n",
       "      <td>36.482133</td>\n",
       "      <td>20220107185209</td>\n",
       "    </tr>\n",
       "    <tr>\n",
       "      <th>...</th>\n",
       "      <td>...</td>\n",
       "      <td>...</td>\n",
       "      <td>...</td>\n",
       "      <td>...</td>\n",
       "    </tr>\n",
       "    <tr>\n",
       "      <th>2250384</th>\n",
       "      <td>SJ_00034</td>\n",
       "      <td>127.280865</td>\n",
       "      <td>36.474907</td>\n",
       "      <td>20221231155811</td>\n",
       "    </tr>\n",
       "    <tr>\n",
       "      <th>2250385</th>\n",
       "      <td>SJ_00338</td>\n",
       "      <td>127.261713</td>\n",
       "      <td>36.504864</td>\n",
       "      <td>20221231155944</td>\n",
       "    </tr>\n",
       "    <tr>\n",
       "      <th>2250386</th>\n",
       "      <td>SJ_00163</td>\n",
       "      <td>127.248956</td>\n",
       "      <td>36.511523</td>\n",
       "      <td>20221231160615</td>\n",
       "    </tr>\n",
       "    <tr>\n",
       "      <th>2250387</th>\n",
       "      <td>SJ_00064</td>\n",
       "      <td>127.251999</td>\n",
       "      <td>36.484200</td>\n",
       "      <td>20221231160706</td>\n",
       "    </tr>\n",
       "    <tr>\n",
       "      <th>2250388</th>\n",
       "      <td>SJ_00426</td>\n",
       "      <td>127.297280</td>\n",
       "      <td>36.594918</td>\n",
       "      <td>20221231162838</td>\n",
       "    </tr>\n",
       "  </tbody>\n",
       "</table>\n",
       "<p>2250389 rows × 4 columns</p>\n",
       "</div>"
      ],
      "text/plain": [
       "            시작대여소  use_start_lng  use_start_lat              날짜\n",
       "0        SJ_00312     127.255510      36.488959  20220107184807\n",
       "1        SJ_00452     127.267595      36.506868  20220107185104\n",
       "2        SJ_00414     127.249233      36.505187  20220107185104\n",
       "3        SJ_00323     127.260933      36.504349  20220107185129\n",
       "4        SJ_00057     127.259645      36.482133  20220107185209\n",
       "...           ...            ...            ...             ...\n",
       "2250384  SJ_00034     127.280865      36.474907  20221231155811\n",
       "2250385  SJ_00338     127.261713      36.504864  20221231155944\n",
       "2250386  SJ_00163     127.248956      36.511523  20221231160615\n",
       "2250387  SJ_00064     127.251999      36.484200  20221231160706\n",
       "2250388  SJ_00426     127.297280      36.594918  20221231162838\n",
       "\n",
       "[2250389 rows x 4 columns]"
      ]
     },
     "execution_count": 9,
     "metadata": {},
     "output_type": "execute_result"
    }
   ],
   "source": [
    "use_Year"
   ]
  },
  {
   "cell_type": "code",
   "execution_count": 10,
   "id": "75b1e795",
   "metadata": {
    "scrolled": true
   },
   "outputs": [],
   "source": [
    "use_Year['날짜'] = pd.to_datetime(use_Year['날짜'], format='%Y%m%d%H%M%S')\n"
   ]
  },
  {
   "cell_type": "code",
   "execution_count": 11,
   "id": "2b71cb77",
   "metadata": {},
   "outputs": [
    {
     "data": {
      "text/html": [
       "<div>\n",
       "<style scoped>\n",
       "    .dataframe tbody tr th:only-of-type {\n",
       "        vertical-align: middle;\n",
       "    }\n",
       "\n",
       "    .dataframe tbody tr th {\n",
       "        vertical-align: top;\n",
       "    }\n",
       "\n",
       "    .dataframe thead th {\n",
       "        text-align: right;\n",
       "    }\n",
       "</style>\n",
       "<table border=\"1\" class=\"dataframe\">\n",
       "  <thead>\n",
       "    <tr style=\"text-align: right;\">\n",
       "      <th></th>\n",
       "      <th>시작대여소</th>\n",
       "      <th>use_start_lng</th>\n",
       "      <th>use_start_lat</th>\n",
       "      <th>날짜</th>\n",
       "    </tr>\n",
       "  </thead>\n",
       "  <tbody>\n",
       "    <tr>\n",
       "      <th>0</th>\n",
       "      <td>SJ_00312</td>\n",
       "      <td>127.255510</td>\n",
       "      <td>36.488959</td>\n",
       "      <td>2022-01-07 18:48:07</td>\n",
       "    </tr>\n",
       "    <tr>\n",
       "      <th>1</th>\n",
       "      <td>SJ_00452</td>\n",
       "      <td>127.267595</td>\n",
       "      <td>36.506868</td>\n",
       "      <td>2022-01-07 18:51:04</td>\n",
       "    </tr>\n",
       "    <tr>\n",
       "      <th>2</th>\n",
       "      <td>SJ_00414</td>\n",
       "      <td>127.249233</td>\n",
       "      <td>36.505187</td>\n",
       "      <td>2022-01-07 18:51:04</td>\n",
       "    </tr>\n",
       "    <tr>\n",
       "      <th>3</th>\n",
       "      <td>SJ_00323</td>\n",
       "      <td>127.260933</td>\n",
       "      <td>36.504349</td>\n",
       "      <td>2022-01-07 18:51:29</td>\n",
       "    </tr>\n",
       "    <tr>\n",
       "      <th>4</th>\n",
       "      <td>SJ_00057</td>\n",
       "      <td>127.259645</td>\n",
       "      <td>36.482133</td>\n",
       "      <td>2022-01-07 18:52:09</td>\n",
       "    </tr>\n",
       "    <tr>\n",
       "      <th>...</th>\n",
       "      <td>...</td>\n",
       "      <td>...</td>\n",
       "      <td>...</td>\n",
       "      <td>...</td>\n",
       "    </tr>\n",
       "    <tr>\n",
       "      <th>2250384</th>\n",
       "      <td>SJ_00034</td>\n",
       "      <td>127.280865</td>\n",
       "      <td>36.474907</td>\n",
       "      <td>2022-12-31 15:58:11</td>\n",
       "    </tr>\n",
       "    <tr>\n",
       "      <th>2250385</th>\n",
       "      <td>SJ_00338</td>\n",
       "      <td>127.261713</td>\n",
       "      <td>36.504864</td>\n",
       "      <td>2022-12-31 15:59:44</td>\n",
       "    </tr>\n",
       "    <tr>\n",
       "      <th>2250386</th>\n",
       "      <td>SJ_00163</td>\n",
       "      <td>127.248956</td>\n",
       "      <td>36.511523</td>\n",
       "      <td>2022-12-31 16:06:15</td>\n",
       "    </tr>\n",
       "    <tr>\n",
       "      <th>2250387</th>\n",
       "      <td>SJ_00064</td>\n",
       "      <td>127.251999</td>\n",
       "      <td>36.484200</td>\n",
       "      <td>2022-12-31 16:07:06</td>\n",
       "    </tr>\n",
       "    <tr>\n",
       "      <th>2250388</th>\n",
       "      <td>SJ_00426</td>\n",
       "      <td>127.297280</td>\n",
       "      <td>36.594918</td>\n",
       "      <td>2022-12-31 16:28:38</td>\n",
       "    </tr>\n",
       "  </tbody>\n",
       "</table>\n",
       "<p>2250389 rows × 4 columns</p>\n",
       "</div>"
      ],
      "text/plain": [
       "            시작대여소  use_start_lng  use_start_lat                  날짜\n",
       "0        SJ_00312     127.255510      36.488959 2022-01-07 18:48:07\n",
       "1        SJ_00452     127.267595      36.506868 2022-01-07 18:51:04\n",
       "2        SJ_00414     127.249233      36.505187 2022-01-07 18:51:04\n",
       "3        SJ_00323     127.260933      36.504349 2022-01-07 18:51:29\n",
       "4        SJ_00057     127.259645      36.482133 2022-01-07 18:52:09\n",
       "...           ...            ...            ...                 ...\n",
       "2250384  SJ_00034     127.280865      36.474907 2022-12-31 15:58:11\n",
       "2250385  SJ_00338     127.261713      36.504864 2022-12-31 15:59:44\n",
       "2250386  SJ_00163     127.248956      36.511523 2022-12-31 16:06:15\n",
       "2250387  SJ_00064     127.251999      36.484200 2022-12-31 16:07:06\n",
       "2250388  SJ_00426     127.297280      36.594918 2022-12-31 16:28:38\n",
       "\n",
       "[2250389 rows x 4 columns]"
      ]
     },
     "execution_count": 11,
     "metadata": {},
     "output_type": "execute_result"
    }
   ],
   "source": [
    "use_Year"
   ]
  },
  {
   "cell_type": "code",
   "execution_count": 12,
   "id": "97892152",
   "metadata": {},
   "outputs": [],
   "source": [
    "# '날짜' 컬럼에서 시간 정보 제거\n",
    "use_Year['날짜'] = use_Year['날짜'].dt.date"
   ]
  },
  {
   "cell_type": "code",
   "execution_count": 13,
   "id": "960fa265",
   "metadata": {
    "scrolled": false
   },
   "outputs": [
    {
     "name": "stdout",
     "output_type": "stream",
     "text": [
      "                날짜     시작대여소  use_start_lng  use_start_lat  대여자수\n",
      "0       2022-01-07  SJ_00001     127.289038      36.478950     5\n",
      "1       2022-01-07  SJ_00002     127.294110      36.484045     2\n",
      "2       2022-01-07  SJ_00004     127.289090      36.480842     3\n",
      "3       2022-01-07  SJ_00005     127.281104      36.477518     2\n",
      "4       2022-01-07  SJ_00006     127.286182      36.477736     2\n",
      "...            ...       ...            ...            ...   ...\n",
      "184058  2022-12-31  SJ_00674     127.288275      36.478151     5\n",
      "184059  2022-12-31  SJ_00676     127.281922      36.465565     2\n",
      "184060  2022-12-31  SJ_00888     127.260913      36.515929     2\n",
      "184061  2022-12-31    SJ_409     127.279640      36.470920     1\n",
      "184062  2022-12-31    SJ_412     127.300812      36.483993     1\n",
      "\n",
      "[184063 rows x 5 columns]\n"
     ]
    }
   ],
   "source": [
    "\n",
    "\n",
    "# '날짜' 컬럼의 최솟값 찾기\n",
    "start_date = use_Year['날짜'].min()\n",
    "\n",
    "# '2022-01-07'를 datetime.date 형식으로 변환\n",
    "compare_date = pd.to_datetime('2022-01-07').date()\n",
    "\n",
    "# 2022-01-07로 변경\n",
    "start_date = max(start_date, compare_date)\n",
    "\n",
    "# 시작 날짜부터의 데이터프레임 생성\n",
    "use_Year_from_start_date = use_Year[use_Year['날짜'] >= start_date].copy()\n",
    "\n",
    "# 일별 대여소별 대여자 수를 계산하여 '대여자수' 컬럼 생성\n",
    "daily_counts = use_Year_from_start_date.groupby(['날짜', '시작대여소','use_start_lng','use_start_lat']).size().reset_index(name='대여자수')\n",
    "\n",
    "# 결과 확인\n",
    "print(daily_counts)"
   ]
  },
  {
   "cell_type": "code",
   "execution_count": 14,
   "id": "75e9ab40",
   "metadata": {},
   "outputs": [
    {
     "name": "stdout",
     "output_type": "stream",
     "text": [
      "<class 'pandas.core.frame.DataFrame'>\n",
      "RangeIndex: 184063 entries, 0 to 184062\n",
      "Data columns (total 5 columns):\n",
      " #   Column         Non-Null Count   Dtype  \n",
      "---  ------         --------------   -----  \n",
      " 0   날짜             184063 non-null  object \n",
      " 1   시작대여소          184063 non-null  object \n",
      " 2   use_start_lng  184063 non-null  float64\n",
      " 3   use_start_lat  184063 non-null  float64\n",
      " 4   대여자수           184063 non-null  int64  \n",
      "dtypes: float64(2), int64(1), object(2)\n",
      "memory usage: 7.0+ MB\n"
     ]
    }
   ],
   "source": [
    "daily_counts.info()"
   ]
  },
  {
   "cell_type": "code",
   "execution_count": 15,
   "id": "cbc19f7f",
   "metadata": {
    "scrolled": true
   },
   "outputs": [],
   "source": [
    "use_Year = daily_counts.copy()"
   ]
  },
  {
   "cell_type": "code",
   "execution_count": 16,
   "id": "37309431",
   "metadata": {
    "scrolled": true
   },
   "outputs": [
    {
     "name": "stdout",
     "output_type": "stream",
     "text": [
      "                날짜     시작대여소  use_start_lng  use_start_lat  대여자수\n",
      "0       2022-01-07  SJ_00001     127.289038      36.478950     5\n",
      "1       2022-01-07  SJ_00002     127.294110      36.484045     2\n",
      "2       2022-01-07  SJ_00004     127.289090      36.480842     3\n",
      "3       2022-01-07  SJ_00005     127.281104      36.477518     2\n",
      "4       2022-01-07  SJ_00006     127.286182      36.477736     2\n",
      "...            ...       ...            ...            ...   ...\n",
      "184058  2022-12-31  SJ_00674     127.288275      36.478151     5\n",
      "184059  2022-12-31  SJ_00676     127.281922      36.465565     2\n",
      "184060  2022-12-31  SJ_00888     127.260913      36.515929     2\n",
      "184061  2022-12-31    SJ_409     127.279640      36.470920     1\n",
      "184062  2022-12-31    SJ_412     127.300812      36.483993     1\n",
      "\n",
      "[184063 rows x 5 columns]\n"
     ]
    }
   ],
   "source": [
    "# '날짜' 컬럼을 datetime으로 변환\n",
    "use_Year['날짜'] = pd.to_datetime(use_Year['날짜'], format='%Y-%m-%d %H:%M:%S')\n",
    "\n",
    "# '날짜' 컬럼에서 시간 정보 제거\n",
    "use_Year['날짜'] = use_Year['날짜'].dt.date\n",
    "\n",
    "# '날짜' 컬럼의 최솟값 찾기\n",
    "start_date = use_Year['날짜'].min()\n",
    "\n",
    "# '2022-01-07'를 datetime.date 형식으로 변환\n",
    "compare_date = pd.to_datetime('2022-01-07').date()\n",
    "\n",
    "# 2022-01-07로 변경\n",
    "start_date = max(start_date, compare_date)\n",
    "\n",
    "# 시작 날짜부터의 데이터프레임 생성\n",
    "use_Year_from_start_date = use_Year[use_Year['날짜'] >= start_date].copy()\n",
    "\n",
    "# 날짜를 기준으로 그룹화하여 대여자수 합계 계산\n",
    "daily_totals_grouped = use_Year_from_start_date.groupby(['날짜', '시작대여소', 'use_start_lng', 'use_start_lat'])['대여자수'].sum().reset_index()\n",
    "\n",
    "# 결과 출력\n",
    "print(daily_totals_grouped)"
   ]
  },
  {
   "cell_type": "code",
   "execution_count": 17,
   "id": "43dac17d",
   "metadata": {},
   "outputs": [
    {
     "name": "stdout",
     "output_type": "stream",
     "text": [
      "<class 'pandas.core.frame.DataFrame'>\n",
      "RangeIndex: 184063 entries, 0 to 184062\n",
      "Data columns (total 5 columns):\n",
      " #   Column         Non-Null Count   Dtype  \n",
      "---  ------         --------------   -----  \n",
      " 0   날짜             184063 non-null  object \n",
      " 1   시작대여소          184063 non-null  object \n",
      " 2   use_start_lng  184063 non-null  float64\n",
      " 3   use_start_lat  184063 non-null  float64\n",
      " 4   대여자수           184063 non-null  int64  \n",
      "dtypes: float64(2), int64(1), object(2)\n",
      "memory usage: 7.0+ MB\n"
     ]
    }
   ],
   "source": [
    "daily_totals_grouped.info()"
   ]
  },
  {
   "cell_type": "code",
   "execution_count": 18,
   "id": "00ff94ca",
   "metadata": {},
   "outputs": [],
   "source": [
    "daily_totals_grouped.drop('시작대여소', axis=1, inplace=True)"
   ]
  },
  {
   "cell_type": "code",
   "execution_count": 19,
   "id": "c06af8a4",
   "metadata": {},
   "outputs": [],
   "source": [
    "# '날짜' 열을 datetime 형식으로 변환\n",
    "daily_totals_grouped['날짜'] = pd.to_datetime(daily_totals_grouped['날짜'], format='%Y%m%d%H%M%S')\n",
    "\n",
    "# 'yy-mm-dd' 형식으로 변경\n",
    "daily_totals_grouped['날짜'] = daily_totals_grouped['날짜'].dt.strftime('%y-%m-%d')\n",
    "# '날짜' 열을 datetime 형식으로 변환\n",
    "daily_totals_grouped['날짜'] = pd.to_datetime('20' + daily_totals_grouped['날짜'], format='%Y-%m-%d')"
   ]
  },
  {
   "cell_type": "code",
   "execution_count": 20,
   "id": "9edc79c6",
   "metadata": {},
   "outputs": [
    {
     "data": {
      "text/html": [
       "<div>\n",
       "<style scoped>\n",
       "    .dataframe tbody tr th:only-of-type {\n",
       "        vertical-align: middle;\n",
       "    }\n",
       "\n",
       "    .dataframe tbody tr th {\n",
       "        vertical-align: top;\n",
       "    }\n",
       "\n",
       "    .dataframe thead th {\n",
       "        text-align: right;\n",
       "    }\n",
       "</style>\n",
       "<table border=\"1\" class=\"dataframe\">\n",
       "  <thead>\n",
       "    <tr style=\"text-align: right;\">\n",
       "      <th></th>\n",
       "      <th>날짜</th>\n",
       "      <th>use_start_lng</th>\n",
       "      <th>use_start_lat</th>\n",
       "      <th>대여자수</th>\n",
       "    </tr>\n",
       "  </thead>\n",
       "  <tbody>\n",
       "    <tr>\n",
       "      <th>0</th>\n",
       "      <td>2022-01-07</td>\n",
       "      <td>127.289038</td>\n",
       "      <td>36.478950</td>\n",
       "      <td>5</td>\n",
       "    </tr>\n",
       "    <tr>\n",
       "      <th>1</th>\n",
       "      <td>2022-01-07</td>\n",
       "      <td>127.294110</td>\n",
       "      <td>36.484045</td>\n",
       "      <td>2</td>\n",
       "    </tr>\n",
       "    <tr>\n",
       "      <th>2</th>\n",
       "      <td>2022-01-07</td>\n",
       "      <td>127.289090</td>\n",
       "      <td>36.480842</td>\n",
       "      <td>3</td>\n",
       "    </tr>\n",
       "    <tr>\n",
       "      <th>3</th>\n",
       "      <td>2022-01-07</td>\n",
       "      <td>127.281104</td>\n",
       "      <td>36.477518</td>\n",
       "      <td>2</td>\n",
       "    </tr>\n",
       "    <tr>\n",
       "      <th>4</th>\n",
       "      <td>2022-01-07</td>\n",
       "      <td>127.286182</td>\n",
       "      <td>36.477736</td>\n",
       "      <td>2</td>\n",
       "    </tr>\n",
       "    <tr>\n",
       "      <th>...</th>\n",
       "      <td>...</td>\n",
       "      <td>...</td>\n",
       "      <td>...</td>\n",
       "      <td>...</td>\n",
       "    </tr>\n",
       "    <tr>\n",
       "      <th>184058</th>\n",
       "      <td>2022-12-31</td>\n",
       "      <td>127.288275</td>\n",
       "      <td>36.478151</td>\n",
       "      <td>5</td>\n",
       "    </tr>\n",
       "    <tr>\n",
       "      <th>184059</th>\n",
       "      <td>2022-12-31</td>\n",
       "      <td>127.281922</td>\n",
       "      <td>36.465565</td>\n",
       "      <td>2</td>\n",
       "    </tr>\n",
       "    <tr>\n",
       "      <th>184060</th>\n",
       "      <td>2022-12-31</td>\n",
       "      <td>127.260913</td>\n",
       "      <td>36.515929</td>\n",
       "      <td>2</td>\n",
       "    </tr>\n",
       "    <tr>\n",
       "      <th>184061</th>\n",
       "      <td>2022-12-31</td>\n",
       "      <td>127.279640</td>\n",
       "      <td>36.470920</td>\n",
       "      <td>1</td>\n",
       "    </tr>\n",
       "    <tr>\n",
       "      <th>184062</th>\n",
       "      <td>2022-12-31</td>\n",
       "      <td>127.300812</td>\n",
       "      <td>36.483993</td>\n",
       "      <td>1</td>\n",
       "    </tr>\n",
       "  </tbody>\n",
       "</table>\n",
       "<p>184063 rows × 4 columns</p>\n",
       "</div>"
      ],
      "text/plain": [
       "               날짜  use_start_lng  use_start_lat  대여자수\n",
       "0      2022-01-07     127.289038      36.478950     5\n",
       "1      2022-01-07     127.294110      36.484045     2\n",
       "2      2022-01-07     127.289090      36.480842     3\n",
       "3      2022-01-07     127.281104      36.477518     2\n",
       "4      2022-01-07     127.286182      36.477736     2\n",
       "...           ...            ...            ...   ...\n",
       "184058 2022-12-31     127.288275      36.478151     5\n",
       "184059 2022-12-31     127.281922      36.465565     2\n",
       "184060 2022-12-31     127.260913      36.515929     2\n",
       "184061 2022-12-31     127.279640      36.470920     1\n",
       "184062 2022-12-31     127.300812      36.483993     1\n",
       "\n",
       "[184063 rows x 4 columns]"
      ]
     },
     "execution_count": 20,
     "metadata": {},
     "output_type": "execute_result"
    }
   ],
   "source": [
    "daily_totals_grouped"
   ]
  },
  {
   "cell_type": "code",
   "execution_count": null,
   "id": "216dec42",
   "metadata": {},
   "outputs": [],
   "source": [
    "# '주간/주말' 컬럼 추가 (1: 주간(월-금), 0: 주말(토-일))\n",
    "daily_totals_grouped['주간/주말'] = (daily_totals_grouped['날짜'].dt.dayofweek < 5).astype(int)\n",
    "daily_totals_grouped"
   ]
  },
  {
   "cell_type": "code",
   "execution_count": null,
   "id": "583d8f32",
   "metadata": {},
   "outputs": [],
   "source": [
    "daily_totals_grouped.to_csv('2022년_어울링_대여최종(1년).csv', encoding='UTF-8',index=False)"
   ]
  },
  {
   "cell_type": "code",
   "execution_count": null,
   "id": "c59e8ba3",
   "metadata": {},
   "outputs": [],
   "source": [
    "daily_totals_grouped = pd.read_csv('./2022년_어울링_대여최종(1년).csv', encoding='UTF-8')"
   ]
  },
  {
   "cell_type": "code",
   "execution_count": null,
   "id": "5e0e8e47",
   "metadata": {
    "scrolled": true
   },
   "outputs": [],
   "source": [
    "daily_totals_grouped"
   ]
  },
  {
   "cell_type": "markdown",
   "id": "4a0f99ab",
   "metadata": {},
   "source": [
    "## 반납전처리"
   ]
  },
  {
   "cell_type": "code",
   "execution_count": null,
   "id": "8d85382c",
   "metadata": {},
   "outputs": [],
   "source": [
    "return_year=result.iloc[:,4:]"
   ]
  },
  {
   "cell_type": "code",
   "execution_count": null,
   "id": "ccaf44fb",
   "metadata": {},
   "outputs": [],
   "source": [
    "return_Year = return_year.rename(columns={'반납대여소_식별번호': '반납대여소','반납대여소_경도':'use_end_lng','반납대여소_위도':'use_end_lat','반납시간':'날짜'})"
   ]
  },
  {
   "cell_type": "code",
   "execution_count": null,
   "id": "8c70cbfa",
   "metadata": {},
   "outputs": [],
   "source": [
    "return_Year['날짜'] = pd.to_datetime(return_Year['날짜'], format='%Y%m%d%H%M%S')\n"
   ]
  },
  {
   "cell_type": "code",
   "execution_count": null,
   "id": "49f7943b",
   "metadata": {},
   "outputs": [],
   "source": [
    "# '날짜' 컬럼에서 시간 정보 제거\n",
    "return_Year['날짜'] = return_Year['날짜'].dt.date"
   ]
  },
  {
   "cell_type": "code",
   "execution_count": null,
   "id": "87c79f2d",
   "metadata": {},
   "outputs": [],
   "source": [
    "\n",
    "\n",
    "# '날짜' 컬럼의 최솟값 찾기\n",
    "end_date = return_Year['날짜'].min()\n",
    "\n",
    "# '2022-01-07'를 datetime.date 형식으로 변환\n",
    "compare_date = pd.to_datetime('2022-01-07').date()\n",
    "\n",
    "# 2022-01-07로 변경\n",
    "end_date = max(end_date, compare_date)\n",
    "\n",
    "# 시작 날짜부터의 데이터프레임 생성\n",
    "return_Year_from_end_date = return_Year[return_Year['날짜'] >= end_date].copy()\n",
    "\n",
    "# 일별 대여소별 대여자 수를 계산하여 '대여자수' 컬럼 생성\n",
    "end_counts = return_Year_from_end_date.groupby(['날짜', '반납대여소','use_end_lng','use_end_lat']).size().reset_index(name='대여자수')\n",
    "\n",
    "# 결과 확인\n",
    "print(end_counts)"
   ]
  },
  {
   "cell_type": "code",
   "execution_count": null,
   "id": "d1ab37b8",
   "metadata": {},
   "outputs": [],
   "source": [
    "return_Year = end_counts.copy()"
   ]
  },
  {
   "cell_type": "code",
   "execution_count": null,
   "id": "9365c4ef",
   "metadata": {},
   "outputs": [],
   "source": [
    "# '날짜' 컬럼을 datetime으로 변환\n",
    "return_Year['날짜'] = pd.to_datetime(return_Year['날짜'], format='%Y-%m-%d %H:%M:%S')\n",
    "\n",
    "# '날짜' 컬럼에서 시간 정보 제거\n",
    "return_Year['날짜'] = return_Year['날짜'].dt.date\n",
    "\n",
    "# '날짜' 컬럼의 최솟값 찾기\n",
    "end_date = return_Year['날짜'].min()\n",
    "\n",
    "# '2022-01-07'를 datetime.date 형식으로 변환\n",
    "compare_date = pd.to_datetime('2022-01-07').date()\n",
    "\n",
    "# 2022-01-07로 변경\n",
    "end_date = max(end_date, compare_date)\n",
    "\n",
    "# 시작 날짜부터의 데이터프레임 생성\n",
    "return_Year_from_end_date = return_Year[return_Year['날짜'] >= end_date].copy()\n",
    "\n",
    "# 날짜를 기준으로 그룹화하여 대여자수 합계 계산\n",
    "end_totals_grouped = return_Year_from_end_date.groupby(['날짜', '반납대여소', 'use_end_lng', 'use_end_lat'])['대여자수'].sum().reset_index()\n",
    "\n",
    "# 결과 출력\n",
    "print(end_totals_grouped)"
   ]
  },
  {
   "cell_type": "code",
   "execution_count": null,
   "id": "db5c3e8d",
   "metadata": {},
   "outputs": [],
   "source": [
    "end_totals_grouped.drop('반납대여소', axis=1, inplace=True)"
   ]
  },
  {
   "cell_type": "code",
   "execution_count": null,
   "id": "119f1365",
   "metadata": {},
   "outputs": [],
   "source": [
    "# '날짜' 열을 datetime 형식으로 변환\n",
    "end_totals_grouped['날짜'] = pd.to_datetime(end_totals_grouped['날짜'], format='%Y%m%d%H%M%S')\n",
    "\n",
    "# 'yy-mm-dd' 형식으로 변경\n",
    "end_totals_grouped['날짜'] = end_totals_grouped['날짜'].dt.strftime('%y-%m-%d')\n",
    "# '날짜' 열을 datetime 형식으로 변환\n",
    "end_totals_grouped['날짜'] = pd.to_datetime('20' + end_totals_grouped['날짜'], format='%Y-%m-%d')"
   ]
  },
  {
   "cell_type": "code",
   "execution_count": null,
   "id": "a86cfef6",
   "metadata": {},
   "outputs": [],
   "source": [
    "end_totals_grouped"
   ]
  },
  {
   "cell_type": "code",
   "execution_count": null,
   "id": "30a0abe5",
   "metadata": {},
   "outputs": [],
   "source": [
    "# '주간/주말' 컬럼 추가 (1: 주간(월-금), 0: 주말(토-일))\n",
    "end_totals_grouped['주간/주말'] = (end_totals_grouped['날짜'].dt.dayofweek < 5).astype(int)\n",
    "end_totals_grouped"
   ]
  },
  {
   "cell_type": "code",
   "execution_count": null,
   "id": "a1a54870",
   "metadata": {},
   "outputs": [],
   "source": []
  },
  {
   "cell_type": "code",
   "execution_count": null,
   "id": "dc1511fd",
   "metadata": {},
   "outputs": [],
   "source": [
    "end_totals_grouped.to_csv('2022년_어울링_반납최종(1년).csv', encoding='UTF-8',index=False)"
   ]
  },
  {
   "cell_type": "code",
   "execution_count": null,
   "id": "cb0516e2",
   "metadata": {},
   "outputs": [],
   "source": [
    "Return_Year = pd.read_csv('./2022년_어울링_반납최종(1년).csv', encoding='UTF-8')"
   ]
  },
  {
   "cell_type": "code",
   "execution_count": null,
   "id": "1f7a5642",
   "metadata": {},
   "outputs": [],
   "source": [
    "Return_Year"
   ]
  },
  {
   "cell_type": "markdown",
   "id": "3bbe7eea",
   "metadata": {},
   "source": [
    "## 날씨 데이터 전처리"
   ]
  },
  {
   "cell_type": "code",
   "execution_count": null,
   "id": "e4209425",
   "metadata": {
    "scrolled": true
   },
   "outputs": [],
   "source": [
    "# 2021년 날씨 데이터\n",
    "weather = pd.read_csv('./final세종_ASOS_239_DAY_2022_2022_2023.tsv', sep=\"\\t\", encoding='UTF-8')\n",
    "weather"
   ]
  },
  {
   "cell_type": "code",
   "execution_count": null,
   "id": "a92b4436",
   "metadata": {},
   "outputs": [],
   "source": [
    "# '일강수량(mm)' 열의 NaN 값을 0으로 채우기\n",
    "weather['일강수량(mm)'] = weather['일강수량(mm)'].fillna(0)\n",
    "weather"
   ]
  },
  {
   "cell_type": "code",
   "execution_count": null,
   "id": "fe4b9027",
   "metadata": {},
   "outputs": [],
   "source": [
    "weather.info()"
   ]
  },
  {
   "cell_type": "code",
   "execution_count": null,
   "id": "18716f9b",
   "metadata": {},
   "outputs": [],
   "source": [
    "# '일강수량(mm)'이 0.1 초과인 경우 \"비내림\", 이하인 경우 \"비안옴\"으로 값을 바꾸기\n",
    "weather['강수유무'] = np.where(weather['일강수량(mm)'] > 0.1,'비내림','비안옴')"
   ]
  },
  {
   "cell_type": "code",
   "execution_count": null,
   "id": "00eab35a",
   "metadata": {},
   "outputs": [],
   "source": [
    "weather.drop(['평균 풍속(m/s)'], axis=1, inplace=True)\n",
    "weather.drop(['일강수량(mm)'], axis=1, inplace=True)"
   ]
  },
  {
   "cell_type": "code",
   "execution_count": null,
   "id": "528b8c81",
   "metadata": {},
   "outputs": [],
   "source": [
    "weather.drop(['평균기온(°C)'], axis=1, inplace=True)"
   ]
  },
  {
   "cell_type": "code",
   "execution_count": null,
   "id": "0fc11e50",
   "metadata": {},
   "outputs": [],
   "source": [
    "# 1. use_Year 데이터프레임에서 '날짜' 컬럼을 datetime으로 변환\n",
    "daily_totals_grouped['날짜'] = pd.to_datetime(daily_totals_grouped['날짜'], format='%Y-%m-%d')\n",
    "\n",
    "# 2. 날씨 데이터프레임에서 '일시' 컬럼을 datetime으로 변환\n",
    "weather['일시'] = pd.to_datetime(weather['일시'], format='%Y-%m-%d')\n",
    "\n",
    "# 3. 두 데이터프레임을 '날짜' 컬럼을 기준으로 합치기\n",
    "merged_df = pd.merge(daily_totals_grouped, weather, left_on='날짜', right_on='일시', how='inner')\n",
    "\n",
    "# 합쳐진 데이터프레임 확인\n",
    "print(merged_df)"
   ]
  },
  {
   "cell_type": "code",
   "execution_count": null,
   "id": "d16e704a",
   "metadata": {},
   "outputs": [],
   "source": [
    "merged_df.drop('일시',axis=1 ,inplace=True)\n"
   ]
  },
  {
   "cell_type": "code",
   "execution_count": null,
   "id": "4fb85a74",
   "metadata": {},
   "outputs": [],
   "source": [
    "# 원하는 순서대로 컬럼 재배치\n",
    "merged_df = merged_df[['날짜', 'use_start_lng', 'use_start_lat', '대여자수', '최저기온(°C)', '최고기온(°C)', '강수유무','주간/주말']]"
   ]
  },
  {
   "cell_type": "code",
   "execution_count": null,
   "id": "17edfa58",
   "metadata": {},
   "outputs": [],
   "source": [
    "use_start = merged_df\n",
    "use_start"
   ]
  },
  {
   "cell_type": "code",
   "execution_count": null,
   "id": "28f06ba4",
   "metadata": {},
   "outputs": [],
   "source": [
    "use_start[use_start['강수유무']=='비내림']"
   ]
  },
  {
   "cell_type": "code",
   "execution_count": null,
   "id": "cb5b7e57",
   "metadata": {
    "scrolled": true
   },
   "outputs": [],
   "source": [
    "use_start['강수유무'] = use_start['강수유무'].apply(lambda x: 1 if x == '비내림' else 0)\n",
    "\n",
    "# 결과 확인\n",
    "print(use_start)"
   ]
  },
  {
   "cell_type": "code",
   "execution_count": null,
   "id": "ad5240b8",
   "metadata": {},
   "outputs": [],
   "source": [
    "use_start[use_start['강수유무']==1]"
   ]
  },
  {
   "cell_type": "code",
   "execution_count": null,
   "id": "26d5b74e",
   "metadata": {},
   "outputs": [],
   "source": [
    "use_start.to_csv('최종대여_12_11.csv', encoding=\"UTF-8\")"
   ]
  },
  {
   "cell_type": "markdown",
   "id": "76f71ac7",
   "metadata": {},
   "source": [
    "## 반납 날씨 전처리\n"
   ]
  },
  {
   "cell_type": "code",
   "execution_count": null,
   "id": "ec5c2001",
   "metadata": {},
   "outputs": [],
   "source": [
    "Return_Year"
   ]
  },
  {
   "cell_type": "code",
   "execution_count": null,
   "id": "2b47a01e",
   "metadata": {},
   "outputs": [],
   "source": [
    "# 1. use_Year 데이터프레임에서 '날짜' 컬럼을 datetime으로 변환\n",
    "Return_Year['날짜'] = pd.to_datetime(Return_Year['날짜'], format='%Y-%m-%d')\n",
    "\n",
    "# 2. 날씨 데이터프레임에서 '일시' 컬럼을 datetime으로 변환\n",
    "weather['일시'] = pd.to_datetime(weather['일시'], format='%Y-%m-%d')\n",
    "\n",
    "# 3. 두 데이터프레임을 '날짜' 컬럼을 기준으로 합치기\n",
    "merged_return = pd.merge(Return_Year, weather, left_on='날짜', right_on='일시', how='inner')\n",
    "\n",
    "# 합쳐진 데이터프레임 확인\n",
    "print(merged_return)"
   ]
  },
  {
   "cell_type": "code",
   "execution_count": null,
   "id": "a113c0c8",
   "metadata": {},
   "outputs": [],
   "source": [
    "merged_return.drop('일시',axis=1 ,inplace=True)\n"
   ]
  },
  {
   "cell_type": "code",
   "execution_count": null,
   "id": "ed67dc41",
   "metadata": {},
   "outputs": [],
   "source": [
    "# 원하는 순서대로 컬럼 재배치\n",
    "merged_return = merged_return[['날짜', 'use_end_lng', 'use_end_lat', '대여자수', '최저기온(°C)', '최고기온(°C)', '강수유무','주간/주말']]"
   ]
  },
  {
   "cell_type": "code",
   "execution_count": null,
   "id": "9c429b83",
   "metadata": {},
   "outputs": [],
   "source": [
    "use_end = merged_return"
   ]
  },
  {
   "cell_type": "code",
   "execution_count": null,
   "id": "9a7fe247",
   "metadata": {
    "scrolled": true
   },
   "outputs": [],
   "source": [
    "use_end['강수유무'] = use_end['강수유무'].apply(lambda x: 1 if x == '비내림' else 0)\n",
    "\n",
    "# 결과 확인\n",
    "print(use_end)"
   ]
  },
  {
   "cell_type": "code",
   "execution_count": null,
   "id": "4bb7b026",
   "metadata": {},
   "outputs": [],
   "source": [
    "use_end[use_end['강수유무']==0]"
   ]
  },
  {
   "cell_type": "code",
   "execution_count": null,
   "id": "d766b358",
   "metadata": {},
   "outputs": [],
   "source": [
    "use_end.to_csv('최종반납_12_11.csv', encoding=\"UTF-8\")"
   ]
  },
  {
   "cell_type": "code",
   "execution_count": null,
   "id": "f5ba4d61",
   "metadata": {},
   "outputs": [],
   "source": [
    "ㄴㅇ러날ㅋㅊㅍ+13ㅂㅈㄱ "
   ]
  },
  {
   "cell_type": "code",
   "execution_count": null,
   "id": "50cd8251",
   "metadata": {},
   "outputs": [],
   "source": []
  },
  {
   "cell_type": "markdown",
   "id": "99da4f3f",
   "metadata": {},
   "source": [
    "### 날씨 데이터 샘플 만들어서 예측결과 확인"
   ]
  },
  {
   "cell_type": "code",
   "execution_count": null,
   "id": "771e1c72",
   "metadata": {},
   "outputs": [],
   "source": [
    "import pandas as pd\n",
    "\n",
    "# Sample data\n",
    "data4= {\n",
    "    '날짜': [\n",
    "        '04-01', '04-02', '04-03', '04-04', '04-05',\n",
    "        '04-06', '04-07', '04-08', '04-09', '04-10',\n",
    "        '04-11', '04-12', '04-13', '04-14', '04-15',\n",
    "        '04-16', '04-17', '04-18', '04-19', '04-20',\n",
    "        '04-21', '04-22', '04-23', '04-24', '04-25',\n",
    "        '04-26', '04-27', '04-28', '04-29', '04-30'\n",
    "    ],\n",
    "    '최고기온(°C)': [26.0, 22.8, 23.3, 22.3, 16.0, 10.1, 15.9, 16.0, 18.6, 21.3, 20.8, 18.1, 23.2, 22.0, 15.4, 17.0, 20.8, 15.5, 28.0, 25.7, 23.2, 21.5, 21.3, 19.8, 11.5, 16.3, 22.6, 23.7, 18.3, 19.8],\n",
    "    '최저기온(°C)': [6.4, 9.6, 8.7, 11.1, 7.9, 7.1, 3.2, 1.7, 2.0, 2.5, 10.2, 4.0, 3.1, 7.1, 8.2, 6.9, 4.8, 12.4, 13.2, 15.1, 13.0, 11.0, 6.9, 11.4, 7.9, 5.1, 2.5, 5.8, 8.9, 7.1],\n",
    "    '강수유무': ['-', '-', '-', '7.6mm', '18.5mm', '4.2mm', '0.3mm', '-', '-', '-', '0.0mm', '-', '-', '-', '13.2mm', '0.0mm', '-', '1.3mm', '-', '-', '-', '0.0mm', '-', '0.0mm', '1.8mm', '-', '-', '-', '0.0mm', '-']\n",
    "}\n",
    "\n",
    "\n",
    "\n",
    "# Creating DataFrame\n",
    "month4 = pd.DataFrame(data4)\n",
    "month4['강수유무'] = month4['강수유무'].replace('-', '0.0mm')\n",
    "month4['강수유무'] = month4['강수유무'].str.replace('mm', '')\n",
    "\n",
    "# Convert the column to numeric if needed\n",
    "month4['강수유무'] = pd.to_numeric(month4['강수유무'], errors='coerce')\n",
    "# 조건에 따라 값을 변환하는 사용자 정의 함수를 정의합니다.\n",
    "def convert_to_binary(value):\n",
    "    return '비내림' if value >= 0.1 else '비안옴'\n",
    "\n",
    "# '강수유무' 열에 함수를 적용합니다.\n",
    "month4['강수유무'] = month4['강수유무'].apply(convert_to_binary)\n",
    "\n",
    "# 더미 변수를 생성합니다.\n",
    "dummy_df = pd.get_dummies(month4['강수유무'], prefix='강수유무').astype(int)\n",
    "# 더미 변수를 원본 데이터프레임에 연결합니다.\n",
    "month4 = pd.concat([month4, dummy_df], axis=1)\n",
    "month4.drop('강수유무', axis=1, inplace=True)\n",
    "# '날짜' 열을 datetime 형식으로 변환\n",
    "month4['날짜'] = pd.to_datetime('2023-' + month4['날짜'], format='%Y-%m-%d')\n",
    "\n",
    "\n",
    "# '요일' 열 추가 (0: 월요일, 1: 화요일, ..., 6: 일요일)\n",
    "month4['요일'] = month4['날짜'].dt.dayofweek\n",
    "\n",
    "# '주간/주말' 열 추가 (1: 주간(월-금), 0: 주말(토-일))\n",
    "month4['주간/주말'] = (month4['요일'] < 5).astype(int)\n",
    "month4.drop('요일', axis=1,inplace=True)\n",
    "\n",
    "# Display the DataFrame\n",
    "month4"
   ]
  },
  {
   "cell_type": "code",
   "execution_count": null,
   "id": "d6770025",
   "metadata": {
    "scrolled": true
   },
   "outputs": [],
   "source": [
    "import pandas as pd\n",
    "\n",
    "# Sample data\n",
    "data5 = {\n",
    "    '날짜': ['05-01', '05-02', '05-03', '05-04', \n",
    "           '05-05', '05-06', '05-07', '05-08', \n",
    "           '05-09', '05-10', '05-11', '05-12',\n",
    "           '05-13', '05-14', '05-15', '05-16', \n",
    "           '05-17', '05-18', '05-19', '05-20', \n",
    "           '05-21', '05-22', '05-23', '05-24', \n",
    "           '05-25', '05-26', '05-27', '05-28', \n",
    "           '05-29', '05-30', '05-31'\n",
    "    ],\n",
    "    '최고기온(°C)': [21.4, 26.0, 26.2, 27.3, 20.8, 19.7, 15.7, 22.8, 25.4, 25.8, 27.2, 25.3, 24.6, 25.9, 28.7, 31.1, 31.4, 22.1, 25.7, 27.9, 23.9, 22.5, 25.4, 27.1, 27.6, 26.8, 23.1, 26.1, 23.9, 22.5, 26.5],\n",
    "    '최저기온(°C)': [9.3, 6.7, 12.0, 14.9, 16.3, 12.1, 7.7, 5.1, 7.2, 9.4, 10.1, 11.7, 12.7, 9.8, 10.5, 14.8, 15.6, 17.9, 16.1, 14.5, 15.5, 13.7, 11.7, 12.4, 15.3, 16.2, 18.9, 16.1, 13.7, 15.5, 16.5],\n",
    "    '강수유무': ['-', '-', '-', '1.8mm', '83.3mm', '38.6mm', '0.2mm', '-', '-', '-', '-', '-', '-', '0.0mm', '-', '-', '-', '0.0mm', '0.6mm', '-', '-', '5.7mm', '-', '1.6mm', '0.0mm', '5.7mm', '-', '0.0mm', '34.7mm', '28.0mm', '-']\n",
    "}\n",
    "\n",
    "\n",
    "\n",
    "# Creating DataFrame\n",
    "month5= pd.DataFrame(data5)\n",
    "month5['강수유무'] = month5['강수유무'].replace('-', '0.0mm')\n",
    "month5['강수유무'] = month5['강수유무'].str.replace('mm', '')\n",
    "\n",
    "# Convert the column to numeric if needed\n",
    "month5['강수유무'] = pd.to_numeric(month5['강수유무'], errors='coerce')\n",
    "# 조건에 따라 값을 변환하는 사용자 정의 함수를 정의합니다.\n",
    "def convert_to_binary(value):\n",
    "    return '비내림' if value >= 0.1 else '비안옴'\n",
    "\n",
    "# '강수유무' 열에 함수를 적용합니다.\n",
    "month5['강수유무'] = month5['강수유무'].apply(convert_to_binary)\n",
    "\n",
    "# 더미 변수를 생성합니다.\n",
    "dummy_df = pd.get_dummies(month5['강수유무'], prefix='강수유무').astype(int)\n",
    "# 더미 변수를 원본 데이터프레임에 연결합니다.\n",
    "month5 = pd.concat([month5, dummy_df], axis=1)\n",
    "month5.drop('강수유무', axis=1, inplace=True)\n",
    "\n",
    "# '날짜' 열을 datetime 형식으로 변환\n",
    "month5['날짜'] = pd.to_datetime('2023-' + month5['날짜'], format='%Y-%m-%d')\n",
    "\n",
    "\n",
    "# '요일' 열 추가 (0: 월요일, 1: 화요일, ..., 6: 일요일)\n",
    "month5['요일'] = month5['날짜'].dt.dayofweek\n",
    "\n",
    "# '주간/주말' 열 추가 (1: 주간(월-금), 0: 주말(토-일))\n",
    "month5['주간/주말'] = (month5['요일'] < 5).astype(int)\n",
    "month5.drop('요일', axis=1,inplace=True)\n",
    "\n",
    "\n",
    "# Display the DataFrame\n",
    "print(month5)"
   ]
  },
  {
   "cell_type": "code",
   "execution_count": null,
   "id": "2794c5e7",
   "metadata": {},
   "outputs": [],
   "source": [
    "import pandas as pd\n",
    "\n",
    "# Sample data\n",
    "data6 = {\n",
    "    '날짜': ['06-01', '06-02', '06-03', '06-04', '06-05', '06-06', '06-07', '06-08', '06-09', '06-10', '06-11', '06-12', '06-13', '06-14', '06-15', '06-16', '06-17', '06-18', '06-19', '06-20', '06-21', '06-22', '06-23', '06-24', '06-25', '06-26', '06-27', '06-28', '06-29', '06-30'],\n",
    "    '최고기온(°C)': [28.0, 27.2, 28.1, 28.7, 26.7, 28.4, 26.4, 28.4, 29.2, 31.7, 30.0, 29.9, 28.7, 28.6, 28.5, 31.9, 32.5, 33.1, 33.5, 27.7, 24.4, 28.4, 31.8, 33.5, 32.8, 26.1, 31.4, 27.1, 26.1, 26.8],\n",
    "    '최저기온(°C)': [17.5, 18.1, 15.6, 17.1, 17.5, 15.6, 16.6, 18.5, 18.4, 18.8, 17.5, 17.6, 18.7, 17.2, 16.6, 17.5, 18.8, 19.6, 19.8, 20.2, 19.5, 19.1, 20.2, 22.1, 19.6, 21.3, 20.8, 21.4, 22.9, 22.0],\n",
    "    '강수유무': ['0.0mm', '0.0mm', '0.0mm', '0.0mm', '83.3mm', '38.6mm', '0.2mm', '0.0mm', '0.0mm', '1.3mm', '0.0mm', '0.0mm', '0.0mm', '0.0mm', '0.0mm', '54.5mm', '25.3mm', '5.7mm', '0.0mm', '1.6mm', '0.0mm', '50.8mm', '0.0mm', '0.0mm', '54.5mm', '25.3mm', '5.7mm', '0.0mm', '1.6mm', '0.0mm'],\n",
    "}\n",
    "\n",
    "\n",
    "\n",
    "# Creating DataFrame\n",
    "month6= pd.DataFrame(data6)\n",
    "\n",
    "month6['강수유무'] = month6['강수유무'].str.replace('mm', '')\n",
    "\n",
    "# Convert the column to numeric if needed\n",
    "month6['강수유무'] = pd.to_numeric(month6['강수유무'], errors='coerce')\n",
    "# 조건에 따라 값을 변환하는 사용자 정의 함수를 정의합니다.\n",
    "def convert_to_binary(value):\n",
    "    return '비내림' if value >= 0.1 else '비안옴'\n",
    "\n",
    "# '강수유무' 열에 함수를 적용합니다.\n",
    "month6['강수유무'] = month6['강수유무'].apply(convert_to_binary)\n",
    "\n",
    "# 더미 변수를 생성합니다.\n",
    "dummy_df = pd.get_dummies(month6['강수유무'], prefix='강수유무').astype(int)\n",
    "# 더미 변수를 원본 데이터프레임에 연결합니다.\n",
    "month6 = pd.concat([month6, dummy_df], axis=1)\n",
    "month6.drop('강수유무', axis=1, inplace=True)\n",
    "\n",
    "# '날짜' 열을 datetime 형식으로 변환\n",
    "month6['날짜'] = pd.to_datetime('2023-' + month6['날짜'], format='%Y-%m-%d')\n",
    "\n",
    "\n",
    "# '요일' 열 추가 (0: 월요일, 1: 화요일, ..., 6: 일요일)\n",
    "month6['요일'] = month6['날짜'].dt.dayofweek\n",
    "\n",
    "# '주간/주말' 열 추가 (1: 주간(월-금), 0: 주말(토-일))\n",
    "month6['주간/주말'] = (month6['요일'] < 5).astype(int)\n",
    "\n",
    "month6.drop('요일', axis=1,inplace=True)\n",
    "# Display the DataFrame\n",
    "print(month6)"
   ]
  },
  {
   "cell_type": "code",
   "execution_count": null,
   "id": "16958ed1",
   "metadata": {},
   "outputs": [],
   "source": [
    "Weather2023 = pd.concat([month4,month5,month6])"
   ]
  },
  {
   "cell_type": "code",
   "execution_count": null,
   "id": "22a8e771",
   "metadata": {},
   "outputs": [],
   "source": [
    "Weather2023"
   ]
  },
  {
   "cell_type": "code",
   "execution_count": null,
   "id": "5016cc1d",
   "metadata": {
    "scrolled": true
   },
   "outputs": [],
   "source": [
    "station = pd.read_csv('./위도경도만.csv', encoding=\"EUC-KR\")\n",
    "station1=station.copy()"
   ]
  },
  {
   "cell_type": "code",
   "execution_count": null,
   "id": "fcb43e43",
   "metadata": {},
   "outputs": [],
   "source": [
    "station1=station1.rename(columns={'위도': 'use_start_lng', '경도': 'use_start_lat'})"
   ]
  },
  {
   "cell_type": "code",
   "execution_count": null,
   "id": "e8e0400d",
   "metadata": {},
   "outputs": [],
   "source": [
    "station1.to_csv('대여소 위도,경도.csv',encoding=\"UTF-8\")"
   ]
  },
  {
   "cell_type": "code",
   "execution_count": null,
   "id": "e2e90751",
   "metadata": {},
   "outputs": [],
   "source": [
    "WP=Weather2023.iloc[:1]"
   ]
  },
  {
   "cell_type": "code",
   "execution_count": null,
   "id": "94b5b364",
   "metadata": {
    "scrolled": true
   },
   "outputs": [],
   "source": [
    "WP"
   ]
  },
  {
   "cell_type": "code",
   "execution_count": null,
   "id": "da265478",
   "metadata": {},
   "outputs": [],
   "source": [
    "import pandas as pd\n",
    "\n",
    "\n",
    "# 복제할 횟수\n",
    "num_rows = 615\n",
    "\n",
    "# 데이터프레임 복제하여 새로운 데이터프레임 생성\n",
    "new_WP = pd.concat([WP] * num_rows, ignore_index=True)\n",
    "\n",
    "# 결과 확인\n",
    "new_WP"
   ]
  },
  {
   "cell_type": "code",
   "execution_count": null,
   "id": "89e5aa4c",
   "metadata": {},
   "outputs": [],
   "source": [
    "new_station = pd.concat([station,new_WP], axis=1)"
   ]
  },
  {
   "cell_type": "code",
   "execution_count": null,
   "id": "6f6d05eb",
   "metadata": {},
   "outputs": [],
   "source": []
  },
  {
   "cell_type": "code",
   "execution_count": null,
   "id": "d208ed1b",
   "metadata": {},
   "outputs": [],
   "source": [
    "new_station = pd.concat([station] * 7, ignore_index=True)\n",
    "new_station"
   ]
  },
  {
   "cell_type": "code",
   "execution_count": null,
   "id": "26ac3509",
   "metadata": {},
   "outputs": [],
   "source": [
    "import pandas as pd\n",
    "\n",
    "for i in range(1,8):\n",
    "    WP = Weather2023.iloc[:i]\n",
    "\n",
    "    # 복제할 횟수\n",
    "    num_rows = 615\n",
    "\n",
    "    # 데이터프레임 복제하여 새로운 데이터프레임 생성\n",
    "    new_WP = pd.concat([WP] * num_rows, ignore_index=True)\n",
    "    \n",
    "    \n",
    "    new_station = pd.concat([station] * 7, ignore_index=True)\n",
    "    \n",
    "    final_station = pd.concat([new_station, new_WP], axis=1)\n",
    "    \n",
    "    # 결과 확인\n",
    "display(final_station)"
   ]
  },
  {
   "cell_type": "code",
   "execution_count": null,
   "id": "d165d41e",
   "metadata": {},
   "outputs": [],
   "source": [
    "final_station.sort_values(by=['날짜'])"
   ]
  },
  {
   "cell_type": "code",
   "execution_count": null,
   "id": "56bc07f8",
   "metadata": {},
   "outputs": [],
   "source": [
    "final_station= final_station.sort_values(by=['날짜'])"
   ]
  },
  {
   "cell_type": "code",
   "execution_count": null,
   "id": "e187c78e",
   "metadata": {},
   "outputs": [],
   "source": [
    "final_station.info()"
   ]
  },
  {
   "cell_type": "code",
   "execution_count": null,
   "id": "4b809674",
   "metadata": {},
   "outputs": [],
   "source": [
    "final_station = final_station.rename(columns={'위도': 'use_start_lng', '경도': 'use_start_lat'})\n",
    "final_station"
   ]
  },
  {
   "cell_type": "code",
   "execution_count": null,
   "id": "99ffb7d6",
   "metadata": {},
   "outputs": [],
   "source": [
    "# '날짜' 열의 '-'를 삭제\n",
    "\n",
    "final_station['날짜'] = final_station['날짜'].astype(str).str.replace('-', '').str.replace('2023', '')"
   ]
  },
  {
   "cell_type": "code",
   "execution_count": null,
   "id": "2fff80de",
   "metadata": {},
   "outputs": [],
   "source": [
    "final_station"
   ]
  },
  {
   "cell_type": "code",
   "execution_count": null,
   "id": "feafa8cd",
   "metadata": {},
   "outputs": [],
   "source": [
    "X"
   ]
  },
  {
   "cell_type": "code",
   "execution_count": null,
   "id": "766dea31",
   "metadata": {},
   "outputs": [],
   "source": [
    "# 날짜 컬럼을 datetime 형식으로 변환\n",
    "X['날짜'] = pd.to_datetime(X['날짜'], format='%m%d')\n",
    "\n",
    "# 날짜 컬럼의 형식을 변경 (0401로)\n",
    "X['날짜'] = X['날짜'].dt.strftime('%m%d')\n",
    "\n",
    "# 결과 확인\n",
    "print(X)"
   ]
  },
  {
   "cell_type": "code",
   "execution_count": null,
   "id": "9049e9a8",
   "metadata": {},
   "outputs": [],
   "source": [
    "X.info()"
   ]
  },
  {
   "cell_type": "code",
   "execution_count": null,
   "id": "525d51b2",
   "metadata": {
    "scrolled": true
   },
   "outputs": [],
   "source": [
    "X = X.astype({'날짜':'int64'})\n",
    "print(X.dtypes)"
   ]
  },
  {
   "cell_type": "code",
   "execution_count": null,
   "id": "caf67e6f",
   "metadata": {},
   "outputs": [],
   "source": [
    "final_station.info()"
   ]
  },
  {
   "cell_type": "code",
   "execution_count": null,
   "id": "21ef34f2",
   "metadata": {},
   "outputs": [],
   "source": [
    "final_station = final_station.astype({'날짜':'int64'})\n",
    "print(final_station.dtypes)"
   ]
  },
  {
   "cell_type": "code",
   "execution_count": null,
   "id": "636df1f5",
   "metadata": {},
   "outputs": [],
   "source": [
    "from sklearn.model_selection import train_test_split\n",
    "from sklearn.preprocessing import MinMaxScaler\n",
    "\n",
    "# Min-Max 스케일링을 위한 객체 생성\n",
    "scaler = MinMaxScaler()\n",
    "\n",
    "# 대여자수, 평균기온(°C), 최저기온(°C), 최고기온(°C), 일강수량(mm), 평균 풍속(m/s)에 대한 Min-Max 스케일링\n",
    "columns_to_scale = ['최저기온(°C)', '최고기온(°C)']\n",
    "final_station[columns_to_scale] = scaler.fit_transform(final_station[columns_to_scale])"
   ]
  },
  {
   "cell_type": "code",
   "execution_count": null,
   "id": "eb132b11",
   "metadata": {},
   "outputs": [],
   "source": [
    "X_test=final_station.copy()"
   ]
  },
  {
   "cell_type": "code",
   "execution_count": null,
   "id": "9fed3239",
   "metadata": {
    "scrolled": true
   },
   "outputs": [],
   "source": [
    "X_test=X_test[['날짜','use_start_lng', 'use_start_lat', '최저기온(°C)', '최고기온(°C)', '강수유무_비내림', '강수유무_비안옴', '주간/주말']]\n",
    "X_test"
   ]
  },
  {
   "cell_type": "code",
   "execution_count": null,
   "id": "a7065892",
   "metadata": {},
   "outputs": [],
   "source": [
    "# '강수유무' 컬럼 생성\n",
    "X_test['강수유무'] = X_test.apply(lambda row: 1 if row['강수유무_비내림'] == 1 or row['강수유무_비안옴'] == 1 else 0, axis=1)\n",
    "\n",
    "# '강수유무_비내림', '강수유무 컬럼_비안옴' 컬럼 삭제\n",
    "X_test.drop(['강수유무_비내림', '강수유무_비안옴'], axis=1, inplace=True)\n",
    "X_test"
   ]
  },
  {
   "cell_type": "code",
   "execution_count": null,
   "id": "860c7684",
   "metadata": {},
   "outputs": [],
   "source": [
    "import xgboost as xgb\n",
    "from sklearn.metrics import mean_squared_error, r2_score\n",
    "\n",
    "# XGBoost 회귀 모델 생성 및 학습\n",
    "xgb_regressor = xgb.XGBRegressor(random_state=42, learning_rate=0.1, n_estimators=500, max_depth =5 , enable_categorical=True)\n",
    "xgb_regressor.fit(X_train, y_train)\n",
    "\n",
    "# 검증 세트를 사용한 모델 평가\n",
    "# y_valid_pred = xgb_regressor.predict(X_valid)\n",
    "# mse_valid = mean_squared_error(y_valid, y_valid_pred)\n",
    "\n",
    "\n",
    "# 테스트 데이터로 예측 수행\n",
    "predict = xgb_regressor.predict(X_test)"
   ]
  },
  {
   "cell_type": "code",
   "execution_count": null,
   "id": "bb18bb37",
   "metadata": {},
   "outputs": [],
   "source": [
    "X_test.info()"
   ]
  },
  {
   "cell_type": "code",
   "execution_count": null,
   "id": "eaea455f",
   "metadata": {},
   "outputs": [],
   "source": [
    "predict"
   ]
  },
  {
   "cell_type": "code",
   "execution_count": null,
   "id": "84b8af0b",
   "metadata": {},
   "outputs": [],
   "source": [
    "predict=np.round(predict,2)"
   ]
  },
  {
   "cell_type": "code",
   "execution_count": null,
   "id": "aa503812",
   "metadata": {},
   "outputs": [],
   "source": [
    "predict"
   ]
  },
  {
   "cell_type": "code",
   "execution_count": null,
   "id": "7ae3e025",
   "metadata": {
    "scrolled": true
   },
   "outputs": [],
   "source": [
    "# 음수인 값 확인\n",
    "negative_predictions = predict[predict < 0]\n",
    "\n",
    "# 음수 값을 출력\n",
    "print(negative_predictions)"
   ]
  }
 ],
 "metadata": {
  "kernelspec": {
   "display_name": "Python 3 (ipykernel)",
   "language": "python",
   "name": "python3"
  },
  "language_info": {
   "codemirror_mode": {
    "name": "ipython",
    "version": 3
   },
   "file_extension": ".py",
   "mimetype": "text/x-python",
   "name": "python",
   "nbconvert_exporter": "python",
   "pygments_lexer": "ipython3",
   "version": "3.11.5"
  }
 },
 "nbformat": 4,
 "nbformat_minor": 5
}
